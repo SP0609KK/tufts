{
 "cells": [
  {
   "cell_type": "code",
   "execution_count": 24,
   "id": "bea2bfb4",
   "metadata": {},
   "outputs": [
    {
     "data": {
      "text/plain": [
       "{'Greater Noida Mental MNS0000192': ['MNS0000192'],\n",
       " 'Penguin Publishing MNS0000456': ['MNS0000456'],\n",
       " 'SB Management Inc MNS04X12': ['MNS0400012'],\n",
       " 'Twisted National MNS02x2': ['MNS0200002'],\n",
       " 'Vandelay Industries MNS01x25': ['MNS0100025'],\n",
       " 'Freedom Company MNS04_89': ['MNS0400089'],\n",
       " 'MNS07x8 Goldman': ['MNS0700008'],\n",
       " 'freedom3': 'No match found',\n",
       " 'freedom 4': 'No match found'}"
      ]
     },
     "execution_count": 24,
     "metadata": {},
     "output_type": "execute_result"
    }
   ],
   "source": [
    "import pandas as pd\n",
    "import re\n",
    "\n",
    "import pandas as pd\n",
    "import re\n",
    "\n",
    "def mns_dict(path):\n",
    "    output_dict = {}\n",
    "    xls = pd.ExcelFile(path)\n",
    "    for sheet in xls.sheet_names:\n",
    "        mns_values = []\n",
    "        text = str(sheet)\n",
    "        # Extract MNS plans from sheet name\n",
    "        mns_matches = re.findall(r'\\b(?:MNS)?\\d+[xX_]\\d+\\b|\\bMNS\\d+\\b|\\b\\d+[xX_]\\d+.*MNS\\b', text)\n",
    "        if mns_matches:\n",
    "            for mns in mns_matches:\n",
    "                # If 'MNS' is already present, remove any additional occurrences\n",
    "                normalized_mns = re.sub(r'\\bMNS\\b', '', mns, count=1) if mns.startswith('MNS') else mns\n",
    "                # Replace 'x' or 'X' with appropriate number of zeros\n",
    "                parts = re.split(r'[xX_]', normalized_mns)\n",
    "                if len(parts) == 2 and parts[1].isdigit():\n",
    "                    if len(parts[1]) == 2:\n",
    "                        normalized_mns = parts[0] + '000' + parts[1]\n",
    "                    elif len(parts[1]) == 1:\n",
    "                        normalized_mns = parts[0] + '0000' + parts[1]\n",
    "                mns_values.append(normalized_mns)\n",
    "            output_dict[sheet] = mns_values\n",
    "        else:\n",
    "            output_dict[sheet] = 'No match found'\n",
    "    return output_dict\n",
    "\n",
    "# Example usage\n",
    "path_to_excel = r\"C:\\Users\\shres\\Downloads\\TUFTS 4 typesstd.xlsx\"\n",
    "mns_sheet_dict = mns_dict(path_to_excel)\n",
    "mns_sheet_dict\n",
    "\n"
   ]
  }
 ],
 "metadata": {
  "kernelspec": {
   "display_name": "Python 3 (ipykernel)",
   "language": "python",
   "name": "python3"
  },
  "language_info": {
   "codemirror_mode": {
    "name": "ipython",
    "version": 3
   },
   "file_extension": ".py",
   "mimetype": "text/x-python",
   "name": "python",
   "nbconvert_exporter": "python",
   "pygments_lexer": "ipython3",
   "version": "3.11.5"
  }
 },
 "nbformat": 4,
 "nbformat_minor": 5
}
